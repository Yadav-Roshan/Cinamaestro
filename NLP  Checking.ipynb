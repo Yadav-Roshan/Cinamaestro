{
 "cells": [
  {
   "cell_type": "code",
   "execution_count": 1,
   "metadata": {
    "application/vnd.databricks.v1+cell": {
     "cellMetadata": {
      "byteLimit": 2048000,
      "rowLimit": 10000
     },
     "inputWidgets": {},
     "nuid": "30f2ffa9-1572-4ee3-a5e8-7cffcf266c75",
     "showTitle": false,
     "title": ""
    }
   },
   "outputs": [
    {
     "data": {
      "text/html": [
       "<div>\n",
       "<style scoped>\n",
       "    .dataframe tbody tr th:only-of-type {\n",
       "        vertical-align: middle;\n",
       "    }\n",
       "\n",
       "    .dataframe tbody tr th {\n",
       "        vertical-align: top;\n",
       "    }\n",
       "\n",
       "    .dataframe thead th {\n",
       "        text-align: right;\n",
       "    }\n",
       "</style>\n",
       "<table border=\"1\" class=\"dataframe\">\n",
       "  <thead>\n",
       "    <tr style=\"text-align: right;\">\n",
       "      <th></th>\n",
       "      <th>Title</th>\n",
       "      <th>Plot</th>\n",
       "      <th>Cast</th>\n",
       "      <th>Director</th>\n",
       "      <th>Writer</th>\n",
       "      <th>Production</th>\n",
       "      <th>Runtime</th>\n",
       "      <th>Budget</th>\n",
       "      <th>Box office</th>\n",
       "      <th>Rating</th>\n",
       "      <th>Genre</th>\n",
       "    </tr>\n",
       "  </thead>\n",
       "  <tbody>\n",
       "    <tr>\n",
       "      <th>0</th>\n",
       "      <td>Ace Ventura: Pet Detective (1994)</td>\n",
       "      <td>Ace Ventura is an unorthodox Miami-based priva...</td>\n",
       "      <td>{'Jim Carrey': 'Ace Ventura', 'Sean Young': 'L...</td>\n",
       "      <td>[Tom Shadyac]</td>\n",
       "      <td>[Jack Bernstein]</td>\n",
       "      <td>[Morgan Creek Productions]</td>\n",
       "      <td>86 minutes</td>\n",
       "      <td>$15 million</td>\n",
       "      <td>$107.2 million</td>\n",
       "      <td>6.9</td>\n",
       "      <td>[Comedy]</td>\n",
       "    </tr>\n",
       "    <tr>\n",
       "      <th>1</th>\n",
       "      <td>Affliction (1997)</td>\n",
       "      <td>Rolfe Whitehouse begins the film, announcing t...</td>\n",
       "      <td>{'Nick Nolte': 'Wade Whitehouse', 'James Cobur...</td>\n",
       "      <td>[Paul Schrader]</td>\n",
       "      <td>NaN</td>\n",
       "      <td>[, Largo Entertainment, Reisman Productions, K...</td>\n",
       "      <td>114 minutes</td>\n",
       "      <td>$6 mill</td>\n",
       "      <td>$6.3 million[2]</td>\n",
       "      <td>6.9</td>\n",
       "      <td>[Drama, Mystery, Thriller]</td>\n",
       "    </tr>\n",
       "    <tr>\n",
       "      <th>2</th>\n",
       "      <td>Agnes Of God (1985)</td>\n",
       "      <td>In a Roman Catholic convent in Montreal, Quebe...</td>\n",
       "      <td>{'Anne Bancroft': 'Mother Miriam Ruth (religio...</td>\n",
       "      <td>[Norman Jewison]</td>\n",
       "      <td>NaN</td>\n",
       "      <td>NaN</td>\n",
       "      <td>99 minutes</td>\n",
       "      <td>$7.5 million</td>\n",
       "      <td>$25.6 mill</td>\n",
       "      <td>6.6</td>\n",
       "      <td>[Drama, Mystery]</td>\n",
       "    </tr>\n",
       "    <tr>\n",
       "      <th>3</th>\n",
       "      <td>Air Force One (1997)</td>\n",
       "      <td>A joint operation between American and Russian...</td>\n",
       "      <td>{'Gary Oldman': 'Egor Korshunov, a ruthless Ra...</td>\n",
       "      <td>[Wolfgang Petersen]</td>\n",
       "      <td>NaN</td>\n",
       "      <td>[, Columbia Pictures, Beacon Pictures, Radiant...</td>\n",
       "      <td>124 minutes</td>\n",
       "      <td>$85 million</td>\n",
       "      <td>$315.2 million</td>\n",
       "      <td>NaN</td>\n",
       "      <td>NaN</td>\n",
       "    </tr>\n",
       "    <tr>\n",
       "      <th>4</th>\n",
       "      <td>Airplane! (1980)</td>\n",
       "      <td>Ex-fighter pilot Ted Striker is a traumatized ...</td>\n",
       "      <td>{'Robert Hays': 'Ted Striker', 'Julie Hagerty'...</td>\n",
       "      <td>[, Jim Abrahams, David Zucker, Jerry Zucker, ]</td>\n",
       "      <td>NaN</td>\n",
       "      <td>[Paramount PicturesHoward W. Koch Productions]</td>\n",
       "      <td>87 minutes[2]</td>\n",
       "      <td>$3.5 million</td>\n",
       "      <td>$171 million</td>\n",
       "      <td>7.7</td>\n",
       "      <td>[Comedy]</td>\n",
       "    </tr>\n",
       "  </tbody>\n",
       "</table>\n",
       "</div>"
      ],
      "text/plain": [
       "                               Title  \\\n",
       "0  Ace Ventura: Pet Detective (1994)   \n",
       "1                  Affliction (1997)   \n",
       "2                Agnes Of God (1985)   \n",
       "3               Air Force One (1997)   \n",
       "4                   Airplane! (1980)   \n",
       "\n",
       "                                                Plot  \\\n",
       "0  Ace Ventura is an unorthodox Miami-based priva...   \n",
       "1  Rolfe Whitehouse begins the film, announcing t...   \n",
       "2  In a Roman Catholic convent in Montreal, Quebe...   \n",
       "3  A joint operation between American and Russian...   \n",
       "4  Ex-fighter pilot Ted Striker is a traumatized ...   \n",
       "\n",
       "                                                Cast  \\\n",
       "0  {'Jim Carrey': 'Ace Ventura', 'Sean Young': 'L...   \n",
       "1  {'Nick Nolte': 'Wade Whitehouse', 'James Cobur...   \n",
       "2  {'Anne Bancroft': 'Mother Miriam Ruth (religio...   \n",
       "3  {'Gary Oldman': 'Egor Korshunov, a ruthless Ra...   \n",
       "4  {'Robert Hays': 'Ted Striker', 'Julie Hagerty'...   \n",
       "\n",
       "                                         Director            Writer  \\\n",
       "0                                   [Tom Shadyac]  [Jack Bernstein]   \n",
       "1                                 [Paul Schrader]               NaN   \n",
       "2                                [Norman Jewison]               NaN   \n",
       "3                             [Wolfgang Petersen]               NaN   \n",
       "4  [, Jim Abrahams, David Zucker, Jerry Zucker, ]               NaN   \n",
       "\n",
       "                                          Production        Runtime  \\\n",
       "0                         [Morgan Creek Productions]     86 minutes   \n",
       "1  [, Largo Entertainment, Reisman Productions, K...    114 minutes   \n",
       "2                                                NaN     99 minutes   \n",
       "3  [, Columbia Pictures, Beacon Pictures, Radiant...    124 minutes   \n",
       "4     [Paramount PicturesHoward W. Koch Productions]  87 minutes[2]   \n",
       "\n",
       "         Budget       Box office  Rating                       Genre  \n",
       "0   $15 million   $107.2 million     6.9                    [Comedy]  \n",
       "1       $6 mill  $6.3 million[2]     6.9  [Drama, Mystery, Thriller]  \n",
       "2  $7.5 million       $25.6 mill     6.6            [Drama, Mystery]  \n",
       "3   $85 million   $315.2 million     NaN                         NaN  \n",
       "4  $3.5 million     $171 million     7.7                    [Comedy]  "
      ]
     },
     "execution_count": 1,
     "metadata": {},
     "output_type": "execute_result"
    }
   ],
   "source": [
    "import pandas as pd\n",
    "import ast\n",
    "import numpy as np\n",
    "def func1(x):\n",
    "    try:\n",
    "        return ast.literal_eval(x)\n",
    "    except:\n",
    "        return np.nan\n",
    "script_data = pd.read_csv('https://docs.google.com/spreadsheets/d/1X21OVNellmT5hlitSp6i942ruHy4TbMBDzRQ-VUSMRg/export?format=csv&gid=1202267698')\n",
    "script_data['Cast'] = script_data['Cast'].apply(lambda x: func1(x))\n",
    "script_data['Director'] = script_data['Director'].apply(lambda x: func1(x))\n",
    "script_data['Writer'] = script_data['Writer'].apply(lambda x: func1(x))\n",
    "script_data['Production'] = script_data['Production'].apply(lambda x: func1(x))\n",
    "script_data['Genre'] = script_data['Genre'].apply(lambda x: func1(x))\n",
    "script_data.head()"
   ]
  },
  {
   "cell_type": "code",
   "execution_count": 2,
   "metadata": {
    "application/vnd.databricks.v1+cell": {
     "cellMetadata": {
      "byteLimit": 2048000,
      "rowLimit": 10000
     },
     "inputWidgets": {},
     "nuid": "70376fe7-e7c9-42c6-98a9-c360c5111466",
     "showTitle": false,
     "title": ""
    }
   },
   "outputs": [],
   "source": [
    "import pyarrow as pa\n",
    "import pyarrow.dataset as ds\n",
    "from datasets import Dataset\n",
    "# hg_dataset = Dataset(pa.Table.from_pandas(script_sample.reset_index(drop=True)))\n",
    "script_values = []\n",
    "for i in range(script_data.shape[0]):\n",
    "    title = script_data['Title'][i].replace(':', '-').replace('(','- ').replace(')', '')\n",
    "    f = open(\"SFY Scripts/\" + title + \".txt\", \"r\", encoding=\"utf8\")\n",
    "    script = f.read()\n",
    "    f.close()\n",
    "    script_values.append(script)\n",
    "# script_sample['Script'] = script_values\n",
    "script_data['Script'] = script_values"
   ]
  },
  {
   "cell_type": "code",
   "execution_count": 3,
   "metadata": {
    "application/vnd.databricks.v1+cell": {
     "cellMetadata": {
      "byteLimit": 2048000,
      "rowLimit": 10000
     },
     "inputWidgets": {},
     "nuid": "9678d980-120e-4a19-9d1b-bb1fef0e90dc",
     "showTitle": false,
     "title": ""
    }
   },
   "outputs": [
    {
     "name": "stderr",
     "output_type": "stream",
     "text": [
      "  error: subprocess-exited-with-error\n",
      "  \n",
      "  × Preparing metadata (pyproject.toml) did not run successfully.\n",
      "  │ exit code: 1\n",
      "  ╰─> [6 lines of output]\n",
      "      Checking for Rust toolchain....\n",
      "      \n",
      "      Cargo, the Rust package manager, is not installed or is not on PATH.\n",
      "      This package requires Rust and Cargo to compile extensions. Install it through\n",
      "      the system's package manager or via https://rustup.rs/\n",
      "      \n",
      "      [end of output]\n",
      "  \n",
      "  note: This error originates from a subprocess, and is likely not a problem with pip.\n",
      "error: metadata-generation-failed\n",
      "\n",
      "× Encountered error while generating package metadata.\n",
      "╰─> See above for output.\n",
      "\n",
      "note: This is an issue with the package mentioned above, not pip.\n",
      "hint: See above for details.\n",
      "\n",
      "[notice] A new release of pip is available: 23.2.1 -> 23.3.1\n",
      "[notice] To update, run: C:\\Python312\\python.exe -m pip install --upgrade pip\n",
      "\n",
      "[notice] A new release of pip is available: 23.2.1 -> 23.3.1\n",
      "[notice] To update, run: C:\\Python312\\python.exe -m pip install --upgrade pip\n"
     ]
    }
   ],
   "source": [
    "!pip install transformers -q\n",
    "!pip install accelerate -U -q"
   ]
  },
  {
   "cell_type": "code",
   "execution_count": 4,
   "metadata": {
    "application/vnd.databricks.v1+cell": {
     "cellMetadata": {
      "byteLimit": 2048000,
      "rowLimit": 10000
     },
     "inputWidgets": {},
     "nuid": "73cc75c7-af99-431d-bced-2518ee3a78d0",
     "showTitle": false,
     "title": ""
    }
   },
   "outputs": [
    {
     "data": {
      "text/html": [
       "<div>\n",
       "<style scoped>\n",
       "    .dataframe tbody tr th:only-of-type {\n",
       "        vertical-align: middle;\n",
       "    }\n",
       "\n",
       "    .dataframe tbody tr th {\n",
       "        vertical-align: top;\n",
       "    }\n",
       "\n",
       "    .dataframe thead th {\n",
       "        text-align: right;\n",
       "    }\n",
       "</style>\n",
       "<table border=\"1\" class=\"dataframe\">\n",
       "  <thead>\n",
       "    <tr style=\"text-align: right;\">\n",
       "      <th></th>\n",
       "      <th>Title</th>\n",
       "      <th>Plot</th>\n",
       "      <th>Cast</th>\n",
       "      <th>Director</th>\n",
       "      <th>Writer</th>\n",
       "      <th>Production</th>\n",
       "      <th>Runtime</th>\n",
       "      <th>Budget</th>\n",
       "      <th>Box office</th>\n",
       "      <th>Rating</th>\n",
       "      <th>Genre</th>\n",
       "      <th>Script</th>\n",
       "    </tr>\n",
       "  </thead>\n",
       "  <tbody>\n",
       "    <tr>\n",
       "      <th>0</th>\n",
       "      <td>Ace Ventura: Pet Detective (1994)</td>\n",
       "      <td>Ace Ventura is an unorthodox Miami-based priva...</td>\n",
       "      <td>{'Jim Carrey': 'Ace Ventura', 'Sean Young': 'L...</td>\n",
       "      <td>[Tom Shadyac]</td>\n",
       "      <td>[Jack Bernstein]</td>\n",
       "      <td>[Morgan Creek Productions]</td>\n",
       "      <td>86 minutes</td>\n",
       "      <td>$15 million</td>\n",
       "      <td>$107.2 million</td>\n",
       "      <td>6.9</td>\n",
       "      <td>[Comedy]</td>\n",
       "      <td>Ace Ventura: Pet Detective (1994)\\nby Jack Ber...</td>\n",
       "    </tr>\n",
       "    <tr>\n",
       "      <th>1</th>\n",
       "      <td>Affliction (1997)</td>\n",
       "      <td>Rolfe Whitehouse begins the film, announcing t...</td>\n",
       "      <td>{'Nick Nolte': 'Wade Whitehouse', 'James Cobur...</td>\n",
       "      <td>[Paul Schrader]</td>\n",
       "      <td>NaN</td>\n",
       "      <td>[, Largo Entertainment, Reisman Productions, K...</td>\n",
       "      <td>114 minutes</td>\n",
       "      <td>$6 mill</td>\n",
       "      <td>$6.3 million[2]</td>\n",
       "      <td>6.9</td>\n",
       "      <td>[Drama, Mystery, Thriller]</td>\n",
       "      <td>Affliction (1997)\\nby Paul Schrader.Based on a...</td>\n",
       "    </tr>\n",
       "    <tr>\n",
       "      <th>2</th>\n",
       "      <td>Agnes Of God (1985)</td>\n",
       "      <td>In a Roman Catholic convent in Montreal, Quebe...</td>\n",
       "      <td>{'Anne Bancroft': 'Mother Miriam Ruth (religio...</td>\n",
       "      <td>[Norman Jewison]</td>\n",
       "      <td>NaN</td>\n",
       "      <td>NaN</td>\n",
       "      <td>99 minutes</td>\n",
       "      <td>$7.5 million</td>\n",
       "      <td>$25.6 mill</td>\n",
       "      <td>6.6</td>\n",
       "      <td>[Drama, Mystery]</td>\n",
       "      <td>Agnes Of God (1985)\\nby John Pielmeier.Based o...</td>\n",
       "    </tr>\n",
       "    <tr>\n",
       "      <th>3</th>\n",
       "      <td>Air Force One (1997)</td>\n",
       "      <td>A joint operation between American and Russian...</td>\n",
       "      <td>{'Gary Oldman': 'Egor Korshunov, a ruthless Ra...</td>\n",
       "      <td>[Wolfgang Petersen]</td>\n",
       "      <td>NaN</td>\n",
       "      <td>[, Columbia Pictures, Beacon Pictures, Radiant...</td>\n",
       "      <td>124 minutes</td>\n",
       "      <td>$85 million</td>\n",
       "      <td>$315.2 million</td>\n",
       "      <td>NaN</td>\n",
       "      <td>NaN</td>\n",
       "      <td>Air Force One (1997)\\nby Andrew Marlow.\\nFADE ...</td>\n",
       "    </tr>\n",
       "    <tr>\n",
       "      <th>4</th>\n",
       "      <td>Airplane! (1980)</td>\n",
       "      <td>Ex-fighter pilot Ted Striker is a traumatized ...</td>\n",
       "      <td>{'Robert Hays': 'Ted Striker', 'Julie Hagerty'...</td>\n",
       "      <td>[, Jim Abrahams, David Zucker, Jerry Zucker, ]</td>\n",
       "      <td>NaN</td>\n",
       "      <td>[Paramount PicturesHoward W. Koch Productions]</td>\n",
       "      <td>87 minutes[2]</td>\n",
       "      <td>$3.5 million</td>\n",
       "      <td>$171 million</td>\n",
       "      <td>7.7</td>\n",
       "      <td>[Comedy]</td>\n",
       "      <td>Airplane! (1980)\\nby Jim Abrahams, David Zucke...</td>\n",
       "    </tr>\n",
       "  </tbody>\n",
       "</table>\n",
       "</div>"
      ],
      "text/plain": [
       "                               Title  \\\n",
       "0  Ace Ventura: Pet Detective (1994)   \n",
       "1                  Affliction (1997)   \n",
       "2                Agnes Of God (1985)   \n",
       "3               Air Force One (1997)   \n",
       "4                   Airplane! (1980)   \n",
       "\n",
       "                                                Plot  \\\n",
       "0  Ace Ventura is an unorthodox Miami-based priva...   \n",
       "1  Rolfe Whitehouse begins the film, announcing t...   \n",
       "2  In a Roman Catholic convent in Montreal, Quebe...   \n",
       "3  A joint operation between American and Russian...   \n",
       "4  Ex-fighter pilot Ted Striker is a traumatized ...   \n",
       "\n",
       "                                                Cast  \\\n",
       "0  {'Jim Carrey': 'Ace Ventura', 'Sean Young': 'L...   \n",
       "1  {'Nick Nolte': 'Wade Whitehouse', 'James Cobur...   \n",
       "2  {'Anne Bancroft': 'Mother Miriam Ruth (religio...   \n",
       "3  {'Gary Oldman': 'Egor Korshunov, a ruthless Ra...   \n",
       "4  {'Robert Hays': 'Ted Striker', 'Julie Hagerty'...   \n",
       "\n",
       "                                         Director            Writer  \\\n",
       "0                                   [Tom Shadyac]  [Jack Bernstein]   \n",
       "1                                 [Paul Schrader]               NaN   \n",
       "2                                [Norman Jewison]               NaN   \n",
       "3                             [Wolfgang Petersen]               NaN   \n",
       "4  [, Jim Abrahams, David Zucker, Jerry Zucker, ]               NaN   \n",
       "\n",
       "                                          Production        Runtime  \\\n",
       "0                         [Morgan Creek Productions]     86 minutes   \n",
       "1  [, Largo Entertainment, Reisman Productions, K...    114 minutes   \n",
       "2                                                NaN     99 minutes   \n",
       "3  [, Columbia Pictures, Beacon Pictures, Radiant...    124 minutes   \n",
       "4     [Paramount PicturesHoward W. Koch Productions]  87 minutes[2]   \n",
       "\n",
       "         Budget       Box office  Rating                       Genre  \\\n",
       "0   $15 million   $107.2 million     6.9                    [Comedy]   \n",
       "1       $6 mill  $6.3 million[2]     6.9  [Drama, Mystery, Thriller]   \n",
       "2  $7.5 million       $25.6 mill     6.6            [Drama, Mystery]   \n",
       "3   $85 million   $315.2 million     NaN                         NaN   \n",
       "4  $3.5 million     $171 million     7.7                    [Comedy]   \n",
       "\n",
       "                                              Script  \n",
       "0  Ace Ventura: Pet Detective (1994)\\nby Jack Ber...  \n",
       "1  Affliction (1997)\\nby Paul Schrader.Based on a...  \n",
       "2  Agnes Of God (1985)\\nby John Pielmeier.Based o...  \n",
       "3  Air Force One (1997)\\nby Andrew Marlow.\\nFADE ...  \n",
       "4  Airplane! (1980)\\nby Jim Abrahams, David Zucke...  "
      ]
     },
     "execution_count": 4,
     "metadata": {},
     "output_type": "execute_result"
    }
   ],
   "source": [
    "df = script_data.copy()\n",
    "df.head()"
   ]
  },
  {
   "cell_type": "code",
   "execution_count": 5,
   "metadata": {
    "application/vnd.databricks.v1+cell": {
     "cellMetadata": {
      "byteLimit": 2048000,
      "rowLimit": 10000
     },
     "inputWidgets": {},
     "nuid": "6c30a9f5-e3bb-4e9c-bb40-ba01fc956c2f",
     "showTitle": false,
     "title": ""
    }
   },
   "outputs": [
    {
     "name": "stdout",
     "output_type": "stream",
     "text": [
      "<class 'pandas.core.frame.DataFrame'>\n",
      "RangeIndex: 531 entries, 0 to 530\n",
      "Data columns (total 12 columns):\n",
      " #   Column      Non-Null Count  Dtype \n",
      "---  ------      --------------  ----- \n",
      " 0   Title       531 non-null    object\n",
      " 1   Plot        531 non-null    object\n",
      " 2   Cast        531 non-null    object\n",
      " 3   Director    531 non-null    object\n",
      " 4   Writer      531 non-null    object\n",
      " 5   Production  531 non-null    object\n",
      " 6   Runtime     531 non-null    object\n",
      " 7   Budget      531 non-null    object\n",
      " 8   Box office  531 non-null    object\n",
      " 9   Rating      531 non-null    object\n",
      " 10  Genre       531 non-null    object\n",
      " 11  Script      531 non-null    object\n",
      "dtypes: object(12)\n",
      "memory usage: 49.9+ KB\n"
     ]
    }
   ],
   "source": [
    "df = df.fillna(\"\")\n",
    "df.info()"
   ]
  },
  {
   "cell_type": "code",
   "execution_count": 6,
   "metadata": {
    "application/vnd.databricks.v1+cell": {
     "cellMetadata": {
      "byteLimit": 2048000,
      "rowLimit": 10000
     },
     "inputWidgets": {},
     "nuid": "71ef0f22-e2ea-4d4e-a2ed-d35b161652de",
     "showTitle": false,
     "title": ""
    }
   },
   "outputs": [],
   "source": [
    "def func2(x):\n",
    "    try:\n",
    "        return \", \".join(x)\n",
    "    except:\n",
    "        return np.nan\n",
    "df['Director'] = df['Director'].apply(lambda x: func2(x))\n",
    "df['Writer'] = df['Writer'].apply(lambda x: func2(x))\n",
    "df['Production'] = df['Production'].apply(lambda x: func2(x))\n",
    "df['Genre'] = df['Genre'].apply(lambda x: func2(x))"
   ]
  },
  {
   "cell_type": "code",
   "execution_count": 7,
   "metadata": {
    "application/vnd.databricks.v1+cell": {
     "cellMetadata": {
      "byteLimit": 2048000,
      "rowLimit": 10000
     },
     "inputWidgets": {},
     "nuid": "9e22fc3e-0a5f-4057-b5c1-a8974466468d",
     "showTitle": false,
     "title": ""
    }
   },
   "outputs": [
    {
     "data": {
      "text/html": [
       "<div>\n",
       "<style scoped>\n",
       "    .dataframe tbody tr th:only-of-type {\n",
       "        vertical-align: middle;\n",
       "    }\n",
       "\n",
       "    .dataframe tbody tr th {\n",
       "        vertical-align: top;\n",
       "    }\n",
       "\n",
       "    .dataframe thead th {\n",
       "        text-align: right;\n",
       "    }\n",
       "</style>\n",
       "<table border=\"1\" class=\"dataframe\">\n",
       "  <thead>\n",
       "    <tr style=\"text-align: right;\">\n",
       "      <th></th>\n",
       "      <th>Title</th>\n",
       "      <th>Plot</th>\n",
       "      <th>Cast</th>\n",
       "      <th>Director</th>\n",
       "      <th>Writer</th>\n",
       "      <th>Production</th>\n",
       "      <th>Runtime</th>\n",
       "      <th>Budget</th>\n",
       "      <th>Box office</th>\n",
       "      <th>Rating</th>\n",
       "      <th>Genre</th>\n",
       "      <th>Script</th>\n",
       "    </tr>\n",
       "  </thead>\n",
       "  <tbody>\n",
       "    <tr>\n",
       "      <th>0</th>\n",
       "      <td>Ace Ventura: Pet Detective (1994)</td>\n",
       "      <td>Ace Ventura is an unorthodox Miami-based priva...</td>\n",
       "      <td>{'Jim Carrey': 'Ace Ventura', 'Sean Young': 'L...</td>\n",
       "      <td>Tom Shadyac</td>\n",
       "      <td>Jack Bernstein</td>\n",
       "      <td>Morgan Creek Productions</td>\n",
       "      <td>86 minutes</td>\n",
       "      <td>$15 million</td>\n",
       "      <td>$107.2 million</td>\n",
       "      <td>6.9</td>\n",
       "      <td>Comedy</td>\n",
       "      <td>Ace Ventura: Pet Detective (1994)\\nby Jack Ber...</td>\n",
       "    </tr>\n",
       "    <tr>\n",
       "      <th>1</th>\n",
       "      <td>Affliction (1997)</td>\n",
       "      <td>Rolfe Whitehouse begins the film, announcing t...</td>\n",
       "      <td>{'Nick Nolte': 'Wade Whitehouse', 'James Cobur...</td>\n",
       "      <td>Paul Schrader</td>\n",
       "      <td></td>\n",
       "      <td>, Largo Entertainment, Reisman Productions, Ki...</td>\n",
       "      <td>114 minutes</td>\n",
       "      <td>$6 mill</td>\n",
       "      <td>$6.3 million[2]</td>\n",
       "      <td>6.9</td>\n",
       "      <td>Drama, Mystery, Thriller</td>\n",
       "      <td>Affliction (1997)\\nby Paul Schrader.Based on a...</td>\n",
       "    </tr>\n",
       "    <tr>\n",
       "      <th>2</th>\n",
       "      <td>Agnes Of God (1985)</td>\n",
       "      <td>In a Roman Catholic convent in Montreal, Quebe...</td>\n",
       "      <td>{'Anne Bancroft': 'Mother Miriam Ruth (religio...</td>\n",
       "      <td>Norman Jewison</td>\n",
       "      <td></td>\n",
       "      <td></td>\n",
       "      <td>99 minutes</td>\n",
       "      <td>$7.5 million</td>\n",
       "      <td>$25.6 mill</td>\n",
       "      <td>6.6</td>\n",
       "      <td>Drama, Mystery</td>\n",
       "      <td>Agnes Of God (1985)\\nby John Pielmeier.Based o...</td>\n",
       "    </tr>\n",
       "    <tr>\n",
       "      <th>3</th>\n",
       "      <td>Air Force One (1997)</td>\n",
       "      <td>A joint operation between American and Russian...</td>\n",
       "      <td>{'Gary Oldman': 'Egor Korshunov, a ruthless Ra...</td>\n",
       "      <td>Wolfgang Petersen</td>\n",
       "      <td></td>\n",
       "      <td>, Columbia Pictures, Beacon Pictures, Radiant ...</td>\n",
       "      <td>124 minutes</td>\n",
       "      <td>$85 million</td>\n",
       "      <td>$315.2 million</td>\n",
       "      <td></td>\n",
       "      <td></td>\n",
       "      <td>Air Force One (1997)\\nby Andrew Marlow.\\nFADE ...</td>\n",
       "    </tr>\n",
       "    <tr>\n",
       "      <th>4</th>\n",
       "      <td>Airplane! (1980)</td>\n",
       "      <td>Ex-fighter pilot Ted Striker is a traumatized ...</td>\n",
       "      <td>{'Robert Hays': 'Ted Striker', 'Julie Hagerty'...</td>\n",
       "      <td>, Jim Abrahams, David Zucker, Jerry Zucker,</td>\n",
       "      <td></td>\n",
       "      <td>Paramount PicturesHoward W. Koch Productions</td>\n",
       "      <td>87 minutes[2]</td>\n",
       "      <td>$3.5 million</td>\n",
       "      <td>$171 million</td>\n",
       "      <td>7.7</td>\n",
       "      <td>Comedy</td>\n",
       "      <td>Airplane! (1980)\\nby Jim Abrahams, David Zucke...</td>\n",
       "    </tr>\n",
       "  </tbody>\n",
       "</table>\n",
       "</div>"
      ],
      "text/plain": [
       "                               Title  \\\n",
       "0  Ace Ventura: Pet Detective (1994)   \n",
       "1                  Affliction (1997)   \n",
       "2                Agnes Of God (1985)   \n",
       "3               Air Force One (1997)   \n",
       "4                   Airplane! (1980)   \n",
       "\n",
       "                                                Plot  \\\n",
       "0  Ace Ventura is an unorthodox Miami-based priva...   \n",
       "1  Rolfe Whitehouse begins the film, announcing t...   \n",
       "2  In a Roman Catholic convent in Montreal, Quebe...   \n",
       "3  A joint operation between American and Russian...   \n",
       "4  Ex-fighter pilot Ted Striker is a traumatized ...   \n",
       "\n",
       "                                                Cast  \\\n",
       "0  {'Jim Carrey': 'Ace Ventura', 'Sean Young': 'L...   \n",
       "1  {'Nick Nolte': 'Wade Whitehouse', 'James Cobur...   \n",
       "2  {'Anne Bancroft': 'Mother Miriam Ruth (religio...   \n",
       "3  {'Gary Oldman': 'Egor Korshunov, a ruthless Ra...   \n",
       "4  {'Robert Hays': 'Ted Striker', 'Julie Hagerty'...   \n",
       "\n",
       "                                       Director          Writer  \\\n",
       "0                                   Tom Shadyac  Jack Bernstein   \n",
       "1                                 Paul Schrader                   \n",
       "2                                Norman Jewison                   \n",
       "3                             Wolfgang Petersen                   \n",
       "4  , Jim Abrahams, David Zucker, Jerry Zucker,                    \n",
       "\n",
       "                                          Production        Runtime  \\\n",
       "0                           Morgan Creek Productions     86 minutes   \n",
       "1  , Largo Entertainment, Reisman Productions, Ki...    114 minutes   \n",
       "2                                                        99 minutes   \n",
       "3  , Columbia Pictures, Beacon Pictures, Radiant ...    124 minutes   \n",
       "4       Paramount PicturesHoward W. Koch Productions  87 minutes[2]   \n",
       "\n",
       "         Budget       Box office Rating                     Genre  \\\n",
       "0   $15 million   $107.2 million    6.9                    Comedy   \n",
       "1       $6 mill  $6.3 million[2]    6.9  Drama, Mystery, Thriller   \n",
       "2  $7.5 million       $25.6 mill    6.6            Drama, Mystery   \n",
       "3   $85 million   $315.2 million                                    \n",
       "4  $3.5 million     $171 million    7.7                    Comedy   \n",
       "\n",
       "                                              Script  \n",
       "0  Ace Ventura: Pet Detective (1994)\\nby Jack Ber...  \n",
       "1  Affliction (1997)\\nby Paul Schrader.Based on a...  \n",
       "2  Agnes Of God (1985)\\nby John Pielmeier.Based o...  \n",
       "3  Air Force One (1997)\\nby Andrew Marlow.\\nFADE ...  \n",
       "4  Airplane! (1980)\\nby Jim Abrahams, David Zucke...  "
      ]
     },
     "execution_count": 7,
     "metadata": {},
     "output_type": "execute_result"
    }
   ],
   "source": [
    "df.head()"
   ]
  },
  {
   "cell_type": "code",
   "execution_count": 8,
   "metadata": {
    "application/vnd.databricks.v1+cell": {
     "cellMetadata": {
      "byteLimit": 2048000,
      "rowLimit": 10000
     },
     "inputWidgets": {},
     "nuid": "40e05de1-83f0-4745-86c8-86fd5ad6e985",
     "showTitle": false,
     "title": ""
    }
   },
   "outputs": [],
   "source": [
    "df.drop('Cast', axis = 1, inplace = True)"
   ]
  },
  {
   "cell_type": "code",
   "execution_count": 9,
   "metadata": {
    "application/vnd.databricks.v1+cell": {
     "cellMetadata": {
      "byteLimit": 2048000,
      "rowLimit": 10000
     },
     "inputWidgets": {},
     "nuid": "7843fa5f-d6d3-4a39-8654-b2326fce1a77",
     "showTitle": false,
     "title": ""
    }
   },
   "outputs": [],
   "source": [
    "inputs = []\n",
    "targets = []\n",
    "input_ids = []\n",
    "for index, row in df.iterrows():\n",
    "    input_id = str(index)\n",
    "    # Combine the features into a single context string\n",
    "    context = \"Give me a movie script where \"\n",
    "    for column in row.keys():\n",
    "        if row[column] and column != 'Script':\n",
    "            context += column + \" is \" + str(row[column]) + \" and \"\n",
    "    context = context[:-5] + \".\"\n",
    "    inputs.append(context)\n",
    "    targets.append(row['Script'])\n",
    "    input_ids.append(input_id)"
   ]
  },
  {
   "cell_type": "code",
   "execution_count": 10,
   "metadata": {
    "application/vnd.databricks.v1+cell": {
     "cellMetadata": {
      "byteLimit": 2048000,
      "rowLimit": 10000
     },
     "inputWidgets": {},
     "nuid": "5062fefc-89ab-438d-95ac-46993d912be1",
     "showTitle": false,
     "title": ""
    }
   },
   "outputs": [
    {
     "name": "stdout",
     "output_type": "stream",
     "text": [
      "[0, 50, 100, 150, 200, 250, 300, 350, 400, 450, 500, 531]\n"
     ]
    },
    {
     "data": {
      "text/plain": [
       "[DatasetDict({\n",
       "     train: Dataset({\n",
       "         features: ['input_id', 'input', 'target'],\n",
       "         num_rows: 35\n",
       "     })\n",
       "     test: Dataset({\n",
       "         features: ['input_id', 'input', 'target'],\n",
       "         num_rows: 15\n",
       "     })\n",
       " }),\n",
       " DatasetDict({\n",
       "     train: Dataset({\n",
       "         features: ['input_id', 'input', 'target'],\n",
       "         num_rows: 35\n",
       "     })\n",
       "     test: Dataset({\n",
       "         features: ['input_id', 'input', 'target'],\n",
       "         num_rows: 15\n",
       "     })\n",
       " }),\n",
       " DatasetDict({\n",
       "     train: Dataset({\n",
       "         features: ['input_id', 'input', 'target'],\n",
       "         num_rows: 35\n",
       "     })\n",
       "     test: Dataset({\n",
       "         features: ['input_id', 'input', 'target'],\n",
       "         num_rows: 15\n",
       "     })\n",
       " }),\n",
       " DatasetDict({\n",
       "     train: Dataset({\n",
       "         features: ['input_id', 'input', 'target'],\n",
       "         num_rows: 35\n",
       "     })\n",
       "     test: Dataset({\n",
       "         features: ['input_id', 'input', 'target'],\n",
       "         num_rows: 15\n",
       "     })\n",
       " }),\n",
       " DatasetDict({\n",
       "     train: Dataset({\n",
       "         features: ['input_id', 'input', 'target'],\n",
       "         num_rows: 35\n",
       "     })\n",
       "     test: Dataset({\n",
       "         features: ['input_id', 'input', 'target'],\n",
       "         num_rows: 15\n",
       "     })\n",
       " }),\n",
       " DatasetDict({\n",
       "     train: Dataset({\n",
       "         features: ['input_id', 'input', 'target'],\n",
       "         num_rows: 35\n",
       "     })\n",
       "     test: Dataset({\n",
       "         features: ['input_id', 'input', 'target'],\n",
       "         num_rows: 15\n",
       "     })\n",
       " }),\n",
       " DatasetDict({\n",
       "     train: Dataset({\n",
       "         features: ['input_id', 'input', 'target'],\n",
       "         num_rows: 35\n",
       "     })\n",
       "     test: Dataset({\n",
       "         features: ['input_id', 'input', 'target'],\n",
       "         num_rows: 15\n",
       "     })\n",
       " }),\n",
       " DatasetDict({\n",
       "     train: Dataset({\n",
       "         features: ['input_id', 'input', 'target'],\n",
       "         num_rows: 35\n",
       "     })\n",
       "     test: Dataset({\n",
       "         features: ['input_id', 'input', 'target'],\n",
       "         num_rows: 15\n",
       "     })\n",
       " }),\n",
       " DatasetDict({\n",
       "     train: Dataset({\n",
       "         features: ['input_id', 'input', 'target'],\n",
       "         num_rows: 35\n",
       "     })\n",
       "     test: Dataset({\n",
       "         features: ['input_id', 'input', 'target'],\n",
       "         num_rows: 15\n",
       "     })\n",
       " }),\n",
       " DatasetDict({\n",
       "     train: Dataset({\n",
       "         features: ['input_id', 'input', 'target'],\n",
       "         num_rows: 35\n",
       "     })\n",
       "     test: Dataset({\n",
       "         features: ['input_id', 'input', 'target'],\n",
       "         num_rows: 15\n",
       "     })\n",
       " }),\n",
       " DatasetDict({\n",
       "     train: Dataset({\n",
       "         features: ['input_id', 'input', 'target'],\n",
       "         num_rows: 21\n",
       "     })\n",
       "     test: Dataset({\n",
       "         features: ['input_id', 'input', 'target'],\n",
       "         num_rows: 10\n",
       "     })\n",
       " })]"
      ]
     },
     "execution_count": 10,
     "metadata": {},
     "output_type": "execute_result"
    }
   ],
   "source": [
    "list1 = [0]+[i*50 for i in range(1,11)]+[531]\n",
    "print(list1)\n",
    "data_list = []\n",
    "for i in range(1, len(list1)):\n",
    "    data = {'input_id':input_ids[list1[i-1]:list1[i]], 'input':inputs[list1[i-1]:list1[i]], 'target':targets[list1[i-1]:list1[i]]}\n",
    "    data_list.append(data)\n",
    "for i in range(len(data_list)):\n",
    "\n",
    "    # Convert the dictionary into a Hugging Face Dataset\n",
    "    data_list[i] = Dataset.from_dict(data_list[i])\n",
    "    data_list[i] = data_list[i].train_test_split(test_size=0.3)\n",
    "data_list"
   ]
  },
  {
   "cell_type": "code",
   "execution_count": 11,
   "metadata": {
    "application/vnd.databricks.v1+cell": {
     "cellMetadata": {
      "byteLimit": 2048000,
      "rowLimit": 10000
     },
     "inputWidgets": {},
     "nuid": "2be1f032-0259-4612-95d3-c393f9ff175f",
     "showTitle": false,
     "title": ""
    }
   },
   "outputs": [],
   "source": [
    "import torch\n",
    "from torch.utils.data import Dataset\n",
    "from transformers import AutoTokenizer\n",
    "\n",
    "class CustomTextGenerationDataset(Dataset):\n",
    "    def __init__(self, dataset, tokenizer, max_length=512):\n",
    "        self.dataset = dataset\n",
    "        self.tokenizer = tokenizer\n",
    "        self.max_length = max_length\n",
    "\n",
    "    def __len__(self):\n",
    "        return len(self.dataset)\n",
    "\n",
    "    def __getitem__(self, idx):\n",
    "        input_text = str(self.dataset[idx]['input'])\n",
    "        target_text = str(self.dataset[idx]['target'])\n",
    "\n",
    "        # Tokenize input and target texts\n",
    "        input_ids = self.tokenizer.encode(input_text, add_special_tokens=True, max_length=self.max_length, truncation=True)\n",
    "        target_ids = self.tokenizer.encode(target_text, add_special_tokens=True, max_length=self.max_length, truncation=True)\n",
    "\n",
    "        # Convert tokenized sequences to PyTorch tensors\n",
    "        input_ids = torch.tensor(input_ids, dtype=torch.long)\n",
    "        target_ids = torch.tensor(target_ids, dtype=torch.long)\n",
    "\n",
    "        return {\"input_ids\": input_ids, \"labels\": target_ids}"
   ]
  },
  {
   "cell_type": "code",
   "execution_count": 12,
   "metadata": {
    "application/vnd.databricks.v1+cell": {
     "cellMetadata": {
      "byteLimit": 2048000,
      "rowLimit": 10000
     },
     "inputWidgets": {},
     "nuid": "11e9477a-a4d9-4781-8fb9-652c472c262b",
     "showTitle": false,
     "title": ""
    }
   },
   "outputs": [],
   "source": [
    "class CustomTextGenerationTestDataset(Dataset):\n",
    "    def __init__(self, dataset, tokenizer, max_length=512):\n",
    "        self.dataset = dataset\n",
    "        self.tokenizer = tokenizer\n",
    "        self.max_length = max_length\n",
    "\n",
    "    def __len__(self):\n",
    "        return len(self.dataset)\n",
    "\n",
    "    def __getitem__(self, idx):\n",
    "        input_text = str(self.dataset[idx]['input'])\n",
    "        target_text = str(self.dataset[idx]['target'])\n",
    "\n",
    "        # Tokenize input and target texts\n",
    "        input_ids = self.tokenizer.encode(input_text, add_special_tokens=True, max_length=self.max_length, truncation=True)\n",
    "        target_ids = self.tokenizer.encode(target_text, add_special_tokens=True, max_length=self.max_length, truncation=True)\n",
    "\n",
    "        # Convert tokenized sequences to PyTorch tensors\n",
    "        input_ids = torch.tensor(input_ids, dtype=torch.long)\n",
    "        target_ids = torch.tensor(target_ids, dtype=torch.long)\n",
    "\n",
    "        return {\"input_ids\": input_ids, \"labels\": target_ids}"
   ]
  },
  {
   "cell_type": "code",
   "execution_count": 14,
   "metadata": {
    "application/vnd.databricks.v1+cell": {
     "cellMetadata": {
      "byteLimit": 2048000,
      "rowLimit": 10000
     },
     "inputWidgets": {},
     "nuid": "977e2b4e-6fba-4da8-85d6-18323000f0a3",
     "showTitle": false,
     "title": ""
    }
   },
   "outputs": [
    {
     "data": {
      "application/vnd.jupyter.widget-view+json": {
       "model_id": "7348f2f59feb468d8c885e37f4152b01",
       "version_major": 2,
       "version_minor": 0
      },
      "text/plain": [
       "Downloading model.safetensors:   0%|          | 0.00/10.7G [00:00<?, ?B/s]"
      ]
     },
     "metadata": {},
     "output_type": "display_data"
    }
   ],
   "source": [
    "from transformers import AutoModelForCausalLM, Trainer, TrainingArguments, DataCollatorForLanguageModeling\n",
    "\n",
    "# Load pre-trained model and tokenizer\n",
    "tokenizer = AutoTokenizer.from_pretrained(\"EleutherAI/gpt-neo-2.7B\", cache_dir = \"D:\\Sahil\\huggingface_cache\")\n",
    "model = AutoModelForCausalLM.from_pretrained(\"EleutherAI/gpt-neo-2.7B\", cache_dir = \"D:\\Sahil\\huggingface_cache\")"
   ]
  },
  {
   "cell_type": "code",
   "execution_count": null,
   "metadata": {
    "application/vnd.databricks.v1+cell": {
     "cellMetadata": {
      "byteLimit": 2048000,
      "rowLimit": 10000
     },
     "inputWidgets": {},
     "nuid": "198cc587-a1e8-49a5-8b3b-3e7f224e0847",
     "showTitle": false,
     "title": ""
    }
   },
   "outputs": [],
   "source": [
    "# Create custom datasets\n",
    "for i in range(len(data_list)):\n",
    "    train_dataset = CustomTextGenerationDataset(data_list[i]['train'], tokenizer)\n",
    "    test_dataset = CustomTextGenerationTestDataset(data_list[i]['test'], tokenizer)\n",
    "    data_list[i]={\"train\":train_dataset, \"test\":test_dataset}\n",
    "\n",
    "# Create data collator\n",
    "tokenizer.pad_token = tokenizer.eos_token\n",
    "data_collator = DataCollatorForLanguageModeling(tokenizer=tokenizer, mlm=False)"
   ]
  },
  {
   "cell_type": "code",
   "execution_count": 14,
   "metadata": {
    "application/vnd.databricks.v1+cell": {
     "cellMetadata": {
      "byteLimit": 2048000,
      "rowLimit": 10000
     },
     "inputWidgets": {},
     "nuid": "35fd6cac-1c5d-4ef9-a3ba-159336201a5f",
     "showTitle": false,
     "title": ""
    }
   },
   "outputs": [
    {
     "data": {
      "application/vnd.jupyter.widget-view+json": {
       "model_id": "8062c36c9e5b48eeb298c2e30a9cec8b",
       "version_major": 2,
       "version_minor": 0
      },
      "text/plain": [
       "VBox(children=(HTML(value='<center> <img\\nsrc=https://huggingface.co/front/assets/huggingface_logo-noborder.sv…"
      ]
     },
     "metadata": {},
     "output_type": "display_data"
    }
   ],
   "source": [
    "from huggingface_hub import notebook_login\n",
    "notebook_login()"
   ]
  },
  {
   "cell_type": "code",
   "execution_count": null,
   "metadata": {
    "application/vnd.databricks.v1+cell": {
     "cellMetadata": {
      "byteLimit": 2048000,
      "rowLimit": 10000
     },
     "inputWidgets": {},
     "nuid": "7e1e47d6-9ef1-4bb8-b4ae-1d441c26e38c",
     "showTitle": false,
     "title": ""
    }
   },
   "outputs": [
    {
     "data": {
      "text/plain": [
       "CommitInfo(commit_url='https://huggingface.co/sahilnagaralu/movie-script-generator/commit/49c90d8b30c955f6e2772d823e1f7c7aecfc9a29', commit_message='Upload tokenizer', commit_description='', oid='49c90d8b30c955f6e2772d823e1f7c7aecfc9a29', pr_url=None, pr_revision=None, pr_num=None)"
      ]
     },
     "execution_count": 17,
     "metadata": {},
     "output_type": "execute_result"
    }
   ],
   "source": [
    "tokenizer.push_to_hub('movie-script-generator')"
   ]
  },
  {
   "cell_type": "code",
   "execution_count": null,
   "metadata": {
    "application/vnd.databricks.v1+cell": {
     "cellMetadata": {
      "byteLimit": 2048000,
      "rowLimit": 10000
     },
     "inputWidgets": {},
     "nuid": "4e4ccd65-6d39-43d4-956e-af431d42dbb4",
     "showTitle": false,
     "title": ""
    }
   },
   "outputs": [],
   "source": [
    "training_args = TrainingArguments(\n",
    "    output_dir = \"movie-script-generator\",\n",
    "    evaluation_strategy=\"epoch\",\n",
    "    learning_rate=2e-5,\n",
    "    weight_decay=0.01,\n",
    "    push_to_hub=False,\n",
    ")"
   ]
  },
  {
   "cell_type": "code",
   "execution_count": null,
   "metadata": {
    "application/vnd.databricks.v1+cell": {
     "cellMetadata": {
      "byteLimit": 2048000,
      "rowLimit": 10000
     },
     "inputWidgets": {},
     "nuid": "0e0492c1-1003-41b4-b1bd-5886d07b899b",
     "showTitle": false,
     "title": ""
    }
   },
   "outputs": [
    {
     "data": {
      "text/plain": [
       "\u001b[0;31m---------------------------------------------------------------------------\u001b[0m\n",
       "\u001b[0;31mThe Python process exited with exit code 137 (SIGKILL: Killed). This may have been caused by an OOM error. Check your command's memory usage.\u001b[0m\n",
       "\u001b[0;31m\u001b[0m\n",
       "\u001b[0;31m\u001b[0m\n",
       "\u001b[0;31m\u001b[0m\n",
       "\u001b[0;31mThe last 10 KB of the process's stderr and stdout can be found below. See driver logs for full logs.\u001b[0m\n",
       "\u001b[0;31m---------------------------------------------------------------------------\u001b[0m\n",
       "\u001b[0;31mLast messages on stderr:\u001b[0m\n",
       "\u001b[0;31mTue Oct 31 19:32:32 2023 Connection to spark from PID  36345\u001b[0m\n",
       "\u001b[0;31mTue Oct 31 19:32:32 2023 Initialized gateway on port 42325\u001b[0m\n",
       "\u001b[0;31mTue Oct 31 19:32:34 2023 Connected to spark.\u001b[0m\n",
       "\u001b[0;31m2023-10-31 19:40:16.907992: I tensorflow/core/platform/cpu_feature_guard.cc:182] This TensorFlow binary is optimized to use available CPU instructions in performance-critical operations.\u001b[0m\n",
       "\u001b[0;31mTo enable the following instructions: AVX2 FMA, in other operations, rebuild TensorFlow with the appropriate compiler flags.\u001b[0m\n",
       "\u001b[0;31m/databricks/python/lib/python3.10/site-packages/transformers/optimization.py:411: FutureWarning: This implementation of AdamW is deprecated and will be removed in a future version. Use the PyTorch implementation torch.optim.AdamW instead, or set `no_deprecation_warning=True` to disable this warning\u001b[0m\n",
       "\u001b[0;31m  warnings.warn(\u001b[0m\n",
       "\u001b[0;31mYou're using a GPT2TokenizerFast tokenizer. Please note that with a fast tokenizer, using the `__call__` method is faster than using a method to encode the text followed by a call to the `pad` method to get a padded encoding.\u001b[0m\n",
       "\u001b[0;31m---------------------------------------------------------------------------\u001b[0m\n",
       "\u001b[0;31mLast messages on stdout:\u001b[0m\n",
       "\u001b[0;31mNOTE: When using the `ipython kernel` entry point, Ctrl-C will not work.\u001b[0m\n",
       "\u001b[0;31m\u001b[0m\n",
       "\u001b[0;31mTo exit, you will have to explicitly quit this process, by either sending\u001b[0m\n",
       "\u001b[0;31m\"quit\" from a client, or using Ctrl-\\ in UNIX-like environments.\u001b[0m\n",
       "\u001b[0;31m\u001b[0m\n",
       "\u001b[0;31mTo read more about this, see https://github.com/ipython/ipython/issues/2049\u001b[0m\n",
       "\u001b[0;31m\u001b[0m\n",
       "\u001b[0;31m\u001b[0m\n",
       "\u001b[0;31mTo connect another client to this kernel, use:\u001b[0m\n",
       "\u001b[0;31m    --existing /databricks/kernel-connections/1c3849102ea9393c5860344d6c0e6d55d41f8e5f8b97ffc5d4d1b17a3056bfd0.json\u001b[0m\n",
       "\u001b[0;31mNote: you may need to restart the kernel using dbutils.library.restartPython() to use updated packages.\u001b[0m\n",
       "\u001b[0;31mNote: you may need to restart the kernel using dbutils.library.restartPython() to use updated packages.\u001b[0m\n",
       "\u001b[0;31mNote: you may need to restart the kernel using dbutils.library.restartPython() to use updated packages.\u001b[0m\n",
       "\u001b[0;31mNote: you may need to restart the kernel using dbutils.library.restartPython() to use updated packages.\u001b[0m\n",
       "\u001b[0;31mNote: you may need to restart the kernel using dbutils.library.restartPython() to use updated packages.\u001b[0m\n",
       "\u001b[0;31mNote: you may need to restart the kernel using dbutils.library.restartPython() to use updated packages.\u001b[0m\n",
       "\u001b[0;31m<class 'pandas.core.frame.DataFrame'>\u001b[0m\n",
       "\u001b[0;31mRangeIndex: 531 entries, 0 to 530\u001b[0m\n",
       "\u001b[0;31mData columns (total 12 columns):\u001b[0m\n",
       "\u001b[0;31m #   Column      Non-Null Count  Dtype \u001b[0m\n",
       "\u001b[0;31m---  ------      --------------  ----- \u001b[0m\n",
       "\u001b[0;31m 0   Title       531 non-null    object\u001b[0m\n",
       "\u001b[0;31m 1   Plot        531 non-null    object\u001b[0m\n",
       "\u001b[0;31m 2   Cast        531 non-null    object\u001b[0m\n",
       "\u001b[0;31m 3   Director    531 non-null    object\u001b[0m\n",
       "\u001b[0;31m 4   Writer      531 non-null    object\u001b[0m\n",
       "\u001b[0;31m 5   Production  531 non-null    object\u001b[0m\n",
       "\u001b[0;31m 6   Runtime     531 non-null    object\u001b[0m\n",
       "\u001b[0;31m 7   Budget      531 non-null    object\u001b[0m\n",
       "\u001b[0;31m 8   Box office  531 non-null    object\u001b[0m\n",
       "\u001b[0;31m 9   Rating      531 non-null    object\u001b[0m\n",
       "\u001b[0;31m 10  Genre       531 non-null    object\u001b[0m\n",
       "\u001b[0;31m 11  Script      531 non-null    object\u001b[0m\n",
       "\u001b[0;31mdtypes: object(12)\u001b[0m\n",
       "\u001b[0;31mmemory usage: 49.9+ KB\u001b[0m\n",
       "\u001b[0;31m[0, 50, 100, 150, 200, 250, 300, 350, 400, 450, 500, 531]\u001b[0m"
      ]
     },
     "metadata": {
      "application/vnd.databricks.v1+output": {
       "arguments": {},
       "data": "\u001b[0;31m---------------------------------------------------------------------------\u001b[0m\n\u001b[0;31mThe Python process exited with exit code 137 (SIGKILL: Killed). This may have been caused by an OOM error. Check your command's memory usage.\u001b[0m\n\u001b[0;31m\u001b[0m\n\u001b[0;31m\u001b[0m\n\u001b[0;31m\u001b[0m\n\u001b[0;31mThe last 10 KB of the process's stderr and stdout can be found below. See driver logs for full logs.\u001b[0m\n\u001b[0;31m---------------------------------------------------------------------------\u001b[0m\n\u001b[0;31mLast messages on stderr:\u001b[0m\n\u001b[0;31mTue Oct 31 19:32:32 2023 Connection to spark from PID  36345\u001b[0m\n\u001b[0;31mTue Oct 31 19:32:32 2023 Initialized gateway on port 42325\u001b[0m\n\u001b[0;31mTue Oct 31 19:32:34 2023 Connected to spark.\u001b[0m\n\u001b[0;31m2023-10-31 19:40:16.907992: I tensorflow/core/platform/cpu_feature_guard.cc:182] This TensorFlow binary is optimized to use available CPU instructions in performance-critical operations.\u001b[0m\n\u001b[0;31mTo enable the following instructions: AVX2 FMA, in other operations, rebuild TensorFlow with the appropriate compiler flags.\u001b[0m\n\u001b[0;31m/databricks/python/lib/python3.10/site-packages/transformers/optimization.py:411: FutureWarning: This implementation of AdamW is deprecated and will be removed in a future version. Use the PyTorch implementation torch.optim.AdamW instead, or set `no_deprecation_warning=True` to disable this warning\u001b[0m\n\u001b[0;31m  warnings.warn(\u001b[0m\n\u001b[0;31mYou're using a GPT2TokenizerFast tokenizer. Please note that with a fast tokenizer, using the `__call__` method is faster than using a method to encode the text followed by a call to the `pad` method to get a padded encoding.\u001b[0m\n\u001b[0;31m---------------------------------------------------------------------------\u001b[0m\n\u001b[0;31mLast messages on stdout:\u001b[0m\n\u001b[0;31mNOTE: When using the `ipython kernel` entry point, Ctrl-C will not work.\u001b[0m\n\u001b[0;31m\u001b[0m\n\u001b[0;31mTo exit, you will have to explicitly quit this process, by either sending\u001b[0m\n\u001b[0;31m\"quit\" from a client, or using Ctrl-\\ in UNIX-like environments.\u001b[0m\n\u001b[0;31m\u001b[0m\n\u001b[0;31mTo read more about this, see https://github.com/ipython/ipython/issues/2049\u001b[0m\n\u001b[0;31m\u001b[0m\n\u001b[0;31m\u001b[0m\n\u001b[0;31mTo connect another client to this kernel, use:\u001b[0m\n\u001b[0;31m    --existing /databricks/kernel-connections/1c3849102ea9393c5860344d6c0e6d55d41f8e5f8b97ffc5d4d1b17a3056bfd0.json\u001b[0m\n\u001b[0;31mNote: you may need to restart the kernel using dbutils.library.restartPython() to use updated packages.\u001b[0m\n\u001b[0;31mNote: you may need to restart the kernel using dbutils.library.restartPython() to use updated packages.\u001b[0m\n\u001b[0;31mNote: you may need to restart the kernel using dbutils.library.restartPython() to use updated packages.\u001b[0m\n\u001b[0;31mNote: you may need to restart the kernel using dbutils.library.restartPython() to use updated packages.\u001b[0m\n\u001b[0;31mNote: you may need to restart the kernel using dbutils.library.restartPython() to use updated packages.\u001b[0m\n\u001b[0;31mNote: you may need to restart the kernel using dbutils.library.restartPython() to use updated packages.\u001b[0m\n\u001b[0;31m<class 'pandas.core.frame.DataFrame'>\u001b[0m\n\u001b[0;31mRangeIndex: 531 entries, 0 to 530\u001b[0m\n\u001b[0;31mData columns (total 12 columns):\u001b[0m\n\u001b[0;31m #   Column      Non-Null Count  Dtype \u001b[0m\n\u001b[0;31m---  ------      --------------  ----- \u001b[0m\n\u001b[0;31m 0   Title       531 non-null    object\u001b[0m\n\u001b[0;31m 1   Plot        531 non-null    object\u001b[0m\n\u001b[0;31m 2   Cast        531 non-null    object\u001b[0m\n\u001b[0;31m 3   Director    531 non-null    object\u001b[0m\n\u001b[0;31m 4   Writer      531 non-null    object\u001b[0m\n\u001b[0;31m 5   Production  531 non-null    object\u001b[0m\n\u001b[0;31m 6   Runtime     531 non-null    object\u001b[0m\n\u001b[0;31m 7   Budget      531 non-null    object\u001b[0m\n\u001b[0;31m 8   Box office  531 non-null    object\u001b[0m\n\u001b[0;31m 9   Rating      531 non-null    object\u001b[0m\n\u001b[0;31m 10  Genre       531 non-null    object\u001b[0m\n\u001b[0;31m 11  Script      531 non-null    object\u001b[0m\n\u001b[0;31mdtypes: object(12)\u001b[0m\n\u001b[0;31mmemory usage: 49.9+ KB\u001b[0m\n\u001b[0;31m[0, 50, 100, 150, 200, 250, 300, 350, 400, 450, 500, 531]\u001b[0m",
       "errorSummary": "<span class='ansi-red-fg'>Fatal error</span>: The Python kernel is unresponsive.",
       "errorTraceType": "ansi",
       "metadata": {},
       "type": "ipynbError"
      }
     },
     "output_type": "display_data"
    }
   ],
   "source": [
    "import math\n",
    "trainer = Trainer(\n",
    "    model=model,\n",
    "    args=training_args,\n",
    "    epochs = 1,\n",
    "    train_dataset=data_list[0]['train'],\n",
    "    eval_dataset=data_list[0]['test'],\n",
    "    data_collator=data_collator,\n",
    ")\n",
    "\n",
    "trainer.train()\n",
    "eval_results = trainer.evaluate()\n",
    "print(f\"Perplexity: {math.exp(eval_results['eval_loss']):.2f}\")\n",
    "trainer.push_to_hub(\"movie-script-generator\")"
   ]
  },
  {
   "cell_type": "code",
   "execution_count": null,
   "metadata": {
    "application/vnd.databricks.v1+cell": {
     "cellMetadata": {},
     "inputWidgets": {},
     "nuid": "ad6c3b1b-10cb-403b-9e65-77551623fd01",
     "showTitle": false,
     "title": ""
    }
   },
   "outputs": [],
   "source": [
    "import math\n",
    "for i in range(1, len(data_list)):\n",
    "    model = AutoModelForCausalLM.from_pretrained(\"my_model_50\")\n",
    "    trainer = Trainer(\n",
    "    model=model,\n",
    "    args=training_args,\n",
    "    train_dataset=data_list[i][\"train\"],\n",
    "    eval_dataset=data_list[i][\"test\"],\n",
    "    data_collator=data_collator,\n",
    "    )\n",
    "\n",
    "    trainer.train()\n",
    "    trainer.push_to_hub(\"moviescript\")\n",
    "    eval_results = trainer.evaluate()\n",
    "    print(f\"Perplexity: {math.exp(eval_results['eval_loss']):.2f}\")"
   ]
  },
  {
   "cell_type": "code",
   "execution_count": null,
   "metadata": {},
   "outputs": [],
   "source": []
  }
 ],
 "metadata": {
  "application/vnd.databricks.v1+notebook": {
   "dashboards": [],
   "language": "python",
   "notebookMetadata": {
    "pythonIndentUnit": 4
   },
   "notebookName": "NLP  Checking",
   "widgets": {}
  },
  "kernelspec": {
   "display_name": "Python 3",
   "language": "python",
   "name": "python3"
  },
  "language_info": {
   "codemirror_mode": {
    "name": "ipython",
    "version": 3
   },
   "file_extension": ".py",
   "mimetype": "text/x-python",
   "name": "python",
   "nbconvert_exporter": "python",
   "pygments_lexer": "ipython3",
   "version": "3.10.7"
  }
 },
 "nbformat": 4,
 "nbformat_minor": 0
}
